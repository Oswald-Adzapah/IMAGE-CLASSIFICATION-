{
  "nbformat": 4,
  "nbformat_minor": 0,
  "metadata": {
    "colab": {
      "provenance": [],
      "mount_file_id": "1aF7Nemtl6Qe-yGQorLtub88TCB9xE4v7",
      "authorship_tag": "ABX9TyMk/A873cKAQALUAEoothoD",
      "include_colab_link": true
    },
    "kernelspec": {
      "name": "python3",
      "display_name": "Python 3"
    },
    "language_info": {
      "name": "python"
    }
  },
  "cells": [
    {
      "cell_type": "markdown",
      "metadata": {
        "id": "view-in-github",
        "colab_type": "text"
      },
      "source": [
        "<a href=\"https://colab.research.google.com/github/Oswald-Adzapah/IMAGE-CLASSIFICATION-/blob/main/IMAGE_CLASSIFICATION_ALGORITHM.ipynb\" target=\"_parent\"><img src=\"https://colab.research.google.com/assets/colab-badge.svg\" alt=\"Open In Colab\"/></a>"
      ]
    },
    {
      "cell_type": "code",
      "execution_count": 191,
      "metadata": {
        "id": "X3ZMACvb0l63"
      },
      "outputs": [],
      "source": [
        "import os\n",
        "import numpy as np\n",
        "import tensorflow as tf\n",
        "import matplotlib.pyplot as plt\n",
        "from tensorflow.keras import layers, Sequential\n",
        "from tensorflow.keras.layers import Conv2D, MaxPooling2D, Dense, Flatten, Dropout\n",
        "import random as rd"
      ]
    },
    {
      "cell_type": "code",
      "source": [
        "# Directory paths\n",
        "image_dir = '/content/drive/MyDrive/archive/train'\n",
        "Timage_dir = '/content/drive/MyDrive/archive/test'"
      ],
      "metadata": {
        "id": "bd9ycE7x0ua8"
      },
      "execution_count": 192,
      "outputs": []
    },
    {
      "cell_type": "code",
      "source": [
        "# Function to create labels\n",
        "def create_labels(image_dir):\n",
        "    labels = os.listdir(image_dir)\n",
        "    label_to_code = {label: code for code, label in enumerate(labels)}\n",
        "    image_paths, image_labels = [], []\n",
        "\n",
        "    for label in labels:\n",
        "        label_code = label_to_code[label]\n",
        "        label_dir = os.path.join(image_dir, label)\n",
        "\n",
        "        for image_filename in os.listdir(label_dir):\n",
        "            image_path = os.path.join(label_dir, image_filename)\n",
        "            image_paths.append(image_path)\n",
        "            image_labels.append(label_code)\n",
        "\n",
        "    return image_paths, image_labels\n",
        "\n",
        "create_labels(image_dir)"
      ],
      "metadata": {
        "id": "cpC25_IV0zhi"
      },
      "execution_count": null,
      "outputs": []
    },
    {
      "cell_type": "code",
      "source": [
        "# Create labels for training and test images\n",
        "image_paths, image_labels = create_labels(image_dir)\n",
        "tst_image_paths, tst_image_labels = create_labels(Timage_dir)\n"
      ],
      "metadata": {
        "id": "JfzwB2wI087W"
      },
      "execution_count": 194,
      "outputs": []
    },
    {
      "cell_type": "code",
      "source": [
        "# Batch size and image size\n",
        "batch_size = 40\n",
        "image_size = (180, 180)"
      ],
      "metadata": {
        "id": "28b0Mopq1DoZ"
      },
      "execution_count": 195,
      "outputs": []
    },
    {
      "cell_type": "code",
      "source": [
        "# Create datasets\n",
        "train_ds = tf.keras.utils.image_dataset_from_directory(\n",
        "    image_dir,\n",
        "    batch_size=batch_size,\n",
        "    image_size=image_size,\n",
        "    shuffle=True,\n",
        ")\n",
        "\n",
        "val_ds = tf.keras.utils.image_dataset_from_directory(\n",
        "    Timage_dir, batch_size=batch_size,\n",
        "    image_size=image_size,\n",
        "    shuffle=True,\n",
        ")\n",
        "\n",
        "class_names = train_ds.class_names\n",
        "\n",
        "nrows = 4\n",
        "ncols = 4\n",
        "plt.figure(figsize=(ncols*4, nrows*4))\n",
        "for images, labels in train_ds.take(1):\n",
        "  for i in range(12):\n",
        "    ax = plt.subplot(4, 4, i + 1)\n",
        "    plt.imshow(images[i].numpy().astype(\"uint8\"))\n",
        "    plt.title(class_names[labels[i]])\n",
        "    plt.axis(\"on\")\n",
        "\n",
        "# Preprocess images\n",
        "def preprocess_images(images, label):\n",
        "    return images / 255.0, label\n",
        "\n",
        "train_ds = train_ds.map(preprocess_images)\n",
        "val_ds = val_ds.map(preprocess_images)"
      ],
      "metadata": {
        "id": "A3gPxpaK116d"
      },
      "execution_count": null,
      "outputs": []
    },
    {
      "cell_type": "code",
      "source": [
        "# Define the model\n",
        "model = Sequential([\n",
        "    Conv2D(32, (3, 3), activation='relu', input_shape=(180, 180, 3)),\n",
        "    Dropout(0.5),\n",
        "    MaxPooling2D((2, 2)),\n",
        "    Conv2D(32, (3, 3), activation='relu'),\n",
        "    MaxPooling2D((2, 2)),\n",
        "    Flatten(),\n",
        "    Dense(64,\n",
        "    activation ='relu'),\n",
        "    Dense(1, activation='sigmoid')\n",
        "])"
      ],
      "metadata": {
        "id": "TZCOzw-X2BbE"
      },
      "execution_count": 197,
      "outputs": []
    },
    {
      "cell_type": "code",
      "source": [
        "# Compile the model\n",
        "model.compile(loss='binary_crossentropy', optimizer='adam', metrics=['accuracy'])"
      ],
      "metadata": {
        "id": "MKCxHAdr2J3t"
      },
      "execution_count": 198,
      "outputs": []
    },
    {
      "cell_type": "code",
      "source": [
        "# Fit the model\n",
        "model.fit(train_ds, epochs=25)"
      ],
      "metadata": {
        "id": "TQeylza82SZ-"
      },
      "execution_count": null,
      "outputs": []
    },
    {
      "cell_type": "code",
      "source": [
        "# Evaluate the model\n",
        "model.evaluate(val_ds)\n"
      ],
      "metadata": {
        "colab": {
          "base_uri": "https://localhost:8080/"
        },
        "id": "9GAKMvqr2Un4",
        "outputId": "5353b760-d1ca-465f-c727-61a887705fd2"
      },
      "execution_count": 200,
      "outputs": [
        {
          "output_type": "stream",
          "name": "stdout",
          "text": [
          ]
        },
        {
          "output_type": "execute_result",
          "data": {
            "text/plain": [
            ]
          },
          "metadata": {},
          "execution_count": 200
        }
      ]
    },
    {
      "cell_type": "code",
      "source": [
        "# Predict on a random test image\n",
        "idx = rd.randint(0, len(tst_image_labels) - 1)\n",
        "tst_image = plt.imread(tst_image_paths[idx])\n",
        "plt.imshow(tst_image)\n",
        "plt.show()\n",
        "\n",
        "tst_image = tf.image.resize(tst_image, (180, 180))  # Resize to match the model input shape\n",
        "tst_image = tf.expand_dims(tst_image, axis=0)  # Add batch dimension\n",
        "\n",
        "y_pred = model.predict(tst_image)\n",
        "print(y_pred)\n",
        "\n",
        "if y_pred[0, 0] > 0.5:\n",
        "    pred = 'NORMAL'\n",
        "else:\n",
        "    pred = 'COVID'\n",
        "\n",
        "print('Our Model says it is:', pred)"
      ],
      "metadata": {
        "id": "9eT_ZL5L2Xh8"
      },
      "execution_count": null,
      "outputs": []
    },
    {
      "cell_type": "code",
      "source": [
        "## putting all y_pred in a list and making it an array\n",
        "all_y_pred= []\n",
        "for idx in range(len(tst_image_labels)):\n",
        "  tst_image= plt.imread(tst_image_paths[idx])\n",
        "  tst_image = tf.image.resize(tst_image, (180, 180))\n",
        "  tst_image = tf.expand_dims(tst_image, axis=0)\n",
        "\n",
        "  y_pred= model.predict(tst_image)\n",
        "  all_y_pred.append(y_pred)\n",
        "\n",
        "all_y_pred_array = np.array(all_y_pred)\n",
        "print(all_y_pred_array)\n"
      ],
      "metadata": {
        "id": "5yLKgtkiFbsx"
      },
      "execution_count": null,
      "outputs": []
    },
    {
      "cell_type": "code",
      "source": [
        "all_y_pred_array = all_y_pred_array.reshape(-1)\n",
        "all_y_pred_array_binary = (all_y_pred_array > 0.5).astype(int)\n",
        "tst_image_labels_array = np.array(tst_image_labels)\n",
        "\n",
        "conf_matrix = confusion_matrix(tst_image_labels_array, all_y_pred_array_binary)\n",
        "print(\"Confusion Matrix:\")\n",
        "print(conf_matrix)\n"
      ],
      "metadata": {
        "id": "l_FkYEucNk56"
      },
      "execution_count": null,
      "outputs": []
    }
  ]
}
